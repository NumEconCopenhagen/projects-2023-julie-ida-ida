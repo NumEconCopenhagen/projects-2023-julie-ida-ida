{
 "cells": [
  {
   "cell_type": "markdown",
   "metadata": {},
   "source": [
    "# YOUR PROJECT TITLE"
   ]
  },
  {
   "attachments": {},
   "cell_type": "markdown",
   "metadata": {},
   "source": [
    "> **Note the following:** \n",
    "> 1. This is *not* meant to be an example of an actual **model analysis project**, just an example of how to structure such a project.\n",
    "> 1. Remember the general advice on structuring and commenting your code\n",
    "> 1. The `modelproject.py` file includes a function which could be used multiple times in this notebook."
   ]
  },
  {
   "cell_type": "markdown",
   "metadata": {},
   "source": [
    "Imports and set magics:"
   ]
  },
  {
   "cell_type": "code",
   "execution_count": 95,
   "metadata": {},
   "outputs": [
    {
     "name": "stdout",
     "output_type": "stream",
     "text": [
      "The autoreload extension is already loaded. To reload it, use:\n",
      "  %reload_ext autoreload\n"
     ]
    }
   ],
   "source": [
    "import numpy as np\n",
    "from scipy import optimize\n",
    "import sympy as sm\n",
    "\n",
    "# autoreload modules when code is run\n",
    "%load_ext autoreload\n",
    "%autoreload 2\n",
    "\n",
    "# local modules\n",
    "import modelproject"
   ]
  },
  {
   "cell_type": "markdown",
   "metadata": {},
   "source": [
    "# Model description"
   ]
  },
  {
   "cell_type": "markdown",
   "metadata": {},
   "source": [
    "**Write out the model in equations here.** \n",
    "\n",
    "Make sure you explain well the purpose of the model and comment so that other students who may not have seen it before can follow.  "
   ]
  },
  {
   "cell_type": "markdown",
   "metadata": {},
   "source": [
    "## Analytical solution"
   ]
  },
  {
   "cell_type": "markdown",
   "metadata": {},
   "source": [
    "If your model allows for an analytical solution, you should provide here.\n",
    "\n",
    "You may use Sympy for this. Then you can characterize the solution as a function of a parameter of the model.\n",
    "\n",
    "To characterize the solution, first derive a steady state equation as a function of a parameter using Sympy.solve and then turn it into a python function by Sympy.lambdify. See the lecture notes for details. "
   ]
  },
  {
   "attachments": {},
   "cell_type": "markdown",
   "metadata": {},
   "source": [
    "**Saving problem for a individual:**\n",
    "$$\n",
    "\\max_{c_{1t},c_{2t+1}} \\ln(c_{1t}) + \\frac{1}{1+\\rho} \\ln(c_{2t+1})\n",
    "$$\n",
    "\n",
    "**Budget constraints:**\n",
    "$$\n",
    "c_{1t} + s_t = w_t (1-\\tau)\n",
    "$$\n",
    "\n",
    "$$\n",
    "c_{2t+1} = s_t (1+r_{t+1}) + \\tau w_{t+1}\n",
    "$$\n",
    "\n",
    "**Euler equation:**\n",
    "$$\n",
    "c_{2t+1} = \\frac{1+r_{t+1}}{1+\\rho}c_{1t}\n",
    "$$\n",
    "\n",
    "**Replacing $c_{1t}$ and $c_{2t+1}$ from the budget constraints in the Euler equaiton:**\n",
    "$$\n",
    "s_t = \\frac{1}{2+\\rho} w_t (1-\\tau) - \\tau \\frac{1+\\rho}{2+\\rho} \\frac{1}{1+r_{t+1}} w_{t+1}\n",
    "$$\n",
    "where $K_{t+1} = S_t \\leftrightarrow k_{t+1} = \\frac{s_t}{1+n}$ and $n=0$ due to no population growth.\n",
    "\n",
    "$$\n",
    "k_{t+1} = \\frac{1}{2+\\rho} w_t (1-\\tau) - \\tau \\frac{1+\\rho}{2+\\rho} \\frac{1}{1+r_{t+1}} w_{t+1}\n",
    "$$\n",
    "\n",
    "We find $w_t$:\n",
    "$$\n",
    "0 = (1-\\alpha) A K_t^\\alpha L_{t}^{-\\alpha} - w_t \\leftrightarrow w_t = (1-\\alpha) A K_t^\\alpha L_{t}^{-\\alpha} \\leftrightarrow w_t = A(\\frac{K_t}{L_t})^\\alpha \\leftrightarrow w_t = Ak_t^\\alpha\n",
    "$$\n",
    "\n",
    "By inserting $w_t$ in $k_{t+1}$ we find that the **capital accumulation** is given by: \n",
    "$$\n",
    "k_{t+1} = \\frac{1}{2+\\rho} w_t (1-\\tau) - \\tau \\frac{1+\\rho}{2+\\rho} \\frac{1}{1+r_{t+1}} Ak_{t+1}^\\alpha\n",
    "$$\n",
    "\n",
    "\n",
    "\n"
   ]
  },
  {
   "cell_type": "code",
   "execution_count": 96,
   "metadata": {},
   "outputs": [],
   "source": [
    "s = sm.symbols('s')\n",
    "rho = sm.symbols('rho')\n",
    "w = sm.symbols('w')\n",
    "tau = sm.symbols('tau')\n",
    "rt1 = sm.symbols('rt1')\n",
    "wt1 = sm.symbols('wt1')\n",
    "ct1 = sm.symbols('ct1')\n",
    "ct2 = sm.symbols('ct2')\n",
    "A = sm.symbols('A')\n",
    "alpha = sm.symbols('alpha')\n",
    "k = sm.symbols('k')"
   ]
  },
  {
   "cell_type": "code",
   "execution_count": null,
   "metadata": {},
   "outputs": [],
   "source": [
    "#func = lambda x: x**alpha \n",
    "\n",
    "steady_state = sm.Eq(k, (1/(2+rho))*w*(1-tau)-tau*((1+rho)/(2+rho))*(1/(1+rt1))*A*k**alpha)\n",
    "ks = sm.solve(steady_state, k)[0]\n",
    "ks\n",
    "\n",
    "# Man kan ikke løse for kt1 analytisk, så vi gør det numerisk "
   ]
  },
  {
   "cell_type": "markdown",
   "metadata": {},
   "source": [
    "## Numerical solution"
   ]
  },
  {
   "cell_type": "markdown",
   "metadata": {},
   "source": [
    "You can always solve a model numerically. \n",
    "\n",
    "Define first the set of parameters you need. \n",
    "\n",
    "Then choose one of the optimization algorithms that we have gone through in the lectures based on what you think is most fitting for your model.\n",
    "\n",
    "Are there any problems with convergence? Does the model converge for all starting values? Make a lot of testing to figure these things out. "
   ]
  },
  {
   "cell_type": "code",
   "execution_count": null,
   "metadata": {},
   "outputs": [],
   "source": [
    "rho = 0.2 # skal ligge mellem 0 og 1\n",
    "w = 1\n",
    "tau = 0.4 # skal ligge mellem 0 og 1\n",
    "rt1 = 0.5\n",
    "A = 1\n",
    "alpha = 0.5 # skal ligge mellem 0 og 1\n",
    "\n",
    "obj = lambda k: k - (1/(2+rho))*w*(1-tau)-tau*((1+rho)/(2+rho))*(1/(1+rt1))*A*k**alpha\n",
    "\n",
    "result = optimize.root_scalar(obj,bracket=[1e-10,10],method='brentq') \n",
    "result.root"
   ]
  },
  {
   "cell_type": "markdown",
   "metadata": {},
   "source": [
    "# Further analysis"
   ]
  },
  {
   "cell_type": "markdown",
   "metadata": {},
   "source": [
    "Make detailed vizualizations of how your model changes with parameter values. \n",
    "\n",
    "Try to make an extension of the model. "
   ]
  },
  {
   "cell_type": "code",
   "execution_count": null,
   "metadata": {},
   "outputs": [],
   "source": [
    "alphas = [0.1, 0.2, 0.3, 0.4, 0.5, 0.6, 0.7, 0.8, 0.9] # vi kan ikke have alpha = 1.0, da nævneren derved bliver 0 \n",
    "\n",
    "for alpha in alphas: \n",
    "    k_new = lambda x: (1/(2+rho)*(1-alpha)*A)**(1/(1-alpha))\n",
    "    obj1 = lambda k_ny: k_ny - (1/(2+rho))*w*(1-tau)-tau*((1+rho)/(2+rho))*(1/(1+rt1))*A*k_new(k_ny)\n",
    "    res = optimize.root_scalar(obj1,bracket=[1e-10,10],method='brentq')\n",
    "    print(res.root)"
   ]
  },
  {
   "cell_type": "markdown",
   "metadata": {},
   "source": [
    "# Conclusion"
   ]
  },
  {
   "cell_type": "markdown",
   "metadata": {},
   "source": [
    "Add concise conclusion. "
   ]
  }
 ],
 "metadata": {
  "kernelspec": {
   "display_name": "base",
   "language": "python",
   "name": "python3"
  },
  "language_info": {
   "codemirror_mode": {
    "name": "ipython",
    "version": 3
   },
   "file_extension": ".py",
   "mimetype": "text/x-python",
   "name": "python",
   "nbconvert_exporter": "python",
   "pygments_lexer": "ipython3",
   "version": "3.9.13"
  },
  "toc-autonumbering": true,
  "vscode": {
   "interpreter": {
    "hash": "133e6f24e0f08af65007c08bc55563c197499db9ca83b4c9dcbc8c36e18e8d70"
   }
  }
 },
 "nbformat": 4,
 "nbformat_minor": 4
}
