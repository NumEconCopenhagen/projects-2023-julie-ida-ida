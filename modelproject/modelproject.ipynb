{
 "cells": [
  {
   "attachments": {},
   "cell_type": "markdown",
   "metadata": {},
   "source": [
    "# MODEL PROJECT"
   ]
  },
  {
   "cell_type": "markdown",
   "metadata": {},
   "source": [
    "Imports and set magics:"
   ]
  },
  {
   "cell_type": "code",
   "execution_count": 14,
   "metadata": {},
   "outputs": [
    {
     "name": "stdout",
     "output_type": "stream",
     "text": [
      "The autoreload extension is already loaded. To reload it, use:\n",
      "  %reload_ext autoreload\n"
     ]
    }
   ],
   "source": [
    "import numpy as np\n",
    "from scipy import optimize\n",
    "import sympy as sm\n",
    "from types import SimpleNamespace\n",
    "\n",
    "# autoreload modules when code is run\n",
    "%load_ext autoreload\n",
    "%autoreload 2\n",
    "\n",
    "import ipywidgets as widgets\n",
    "\n",
    "import matplotlib.pyplot as plt\n",
    "plt.rcParams.update({\"axes.grid\":True,\"grid.color\":\"black\",\"grid.alpha\":\"0.25\",\"grid.linestyle\":\"--\"})\n",
    "plt.rcParams.update({'font.size': 14})"
   ]
  },
  {
   "attachments": {},
   "cell_type": "markdown",
   "metadata": {},
   "source": [
    "# Model description"
   ]
  },
  {
   "attachments": {},
   "cell_type": "markdown",
   "metadata": {},
   "source": [
    "We consider a two period OLG model where we include an Euler equation. \n",
    "\n",
    "**Firms maximization problem:**\n",
    "$$\n",
    "\\max_{K_t, L_t}  AK_t^{\\alpha}L_t^{1-\\alpha} - r_t K_t - w_t L_t\n",
    "$$\n",
    "\n",
    "$L_t$ and $K_t$ is the labor and capital employed by a firm. $A$ is the total factor productivity and must be greater than 0. $\\alpha \\in (0,1)$ and is the percentage of capital the consumer uses in their production process.\n",
    "\n",
    "**Production function:**\n",
    "$$\n",
    "Y_t = AK_t^{\\alpha}L_t^{1-\\alpha} \n",
    "$$\n",
    "\n",
    "$L_t$ shows how many individuals are born in period t. The population grows at constant rate, n:\n",
    "$$\n",
    "L_t = L_{t-1}(1+n)\n",
    "$$\n",
    "\n",
    "The capital accumulation in the next period is equal to the savings from this period:\n",
    "$$\n",
    "K_{t+1} = S_t = s_tL_t\n",
    "$$\n",
    "It is only the young ($L_t$) who save.\n",
    "\n",
    "In period $t+1$ aggregate capital stock is equal to what the young people save, what the old people dissave and un-depreciated capital ($\\delta = 0$):\n",
    "$$\n",
    "k_{t+1}(1+n) = s_t \n",
    "$$\n",
    "\n",
    "**Capital per capita:**\n",
    "$$\n",
    "k_t = \\frac{K_t}{L_t}\n",
    "$$\n",
    "\n",
    "We write up the utility for young individuals.\n",
    "\n",
    "\n",
    "**Saving problem for an individual:**\n",
    "$$\n",
    "U_t = ln(c_{1t})+\\beta ln(c_{2t+1})\n",
    "$$\n",
    "$c_{1t}$ is consumption when young and $c_{2t+1}$ is consumption when old. \n",
    "\n",
    "**Parameter expression:**\n",
    "$$\n",
    "\\beta = \\frac{1}{1+\\rho}\n",
    "$$\n",
    "$\\rho$ is the discount rate andmust be larger than $-1$, such that $\\beta>0$.\n",
    "\n",
    "**Budget constraints:**\n",
    "$$\n",
    "c_{1t} + s_t = w_t \n",
    "$$\n",
    "\n",
    "$$\n",
    "c_{2t+1} = (1 + r_{t+1}) s_t\n",
    "$$\n",
    "$w_t$ is defined as the wage rate and $r_{t+1}$ is the interest rate between $t$ and $t+1$.\n",
    "$\\newline$\n",
    "The consumption for young is equal to their wage minus savings. \n",
    "$\\newline$\n",
    "Since old agents do not work, they must provide consumption through savings which are remunerated at the gross rate.  \n",
    "\n",
    "By combining consumption when young and consumption when old, we yield the **Lifetime budget constraint:**\n",
    "$$\n",
    "c_{1t} + \\frac{c_{2t+1}}{1+r_{t+1}} = w_t \n",
    "$$\n",
    "The old cannot make any choices and must therefore consume their wealth. \n",
    "$\\newline$\n",
    "We assume $\\delta = 0$ meaning zero depreciation. By solving the firms' problem we get factor prices for $r_t$ and $w_t$:\n",
    "$$\n",
    "r_t = A \\alpha k_t^{\\alpha-1}\n",
    "$$\n",
    "\n",
    "$$\n",
    "w_t = A(1-\\alpha)k_t^\\alpha\n",
    "$$\n",
    "\n",
    "In order to derive the Euler equation, ie. solving the household problem, we use the Lagrangian to find FOC's. Then we can substitute out the Lagrangian multiplier to get the Euler equation.\n",
    "\n",
    "**The Euler equation:**\n",
    "$$\n",
    "c_{2t+1} = \\frac{1+r_{t+1}}{1+\\rho}c_{1t}\n",
    "$$\n",
    "\n",
    "By combining the budget constraints with the Euler equation, we are able to find the optimal savings. \n",
    "$$\n",
    "s_t = \\frac{1}{2+\\rho}w_t\n",
    "$$\n",
    "\n",
    "Remember that $k_{t+1} (1+n) = s_t$. By inserting the factor price for wage, we get the capital accumulation per capita. \n",
    "\n",
    "**Capital accumulation per capita:**\n",
    "$$\n",
    "k_{t+1}(1+n) = \\frac{1}{2+\\rho}w_t\n",
    "$$\n",
    "\n",
    "$$\n",
    "k_{t+1}(1+n) = \\frac{1}{2+\\rho}A(1-\\alpha)k_t^\\alpha\n",
    "$$\n",
    "\n",
    "$$\n",
    "k_{t+1} = \\frac{A(1-\\alpha)k_t^\\alpha}{(1+n)(2+\\rho)}\n",
    "$$\n",
    "\n",
    "In steady state $k_{t+1} = k_t = k^*$ yielding:\n",
    "\n",
    "**Steady state:**\n",
    "$$\n",
    "k^* = \\bigr[\\frac{A(1-\\alpha)}{(1+n)(2+\\rho)}\\bigr]^\\frac{1}{1-\\alpha}\n",
    "$$\n",
    "\n",
    "\n",
    "\n"
   ]
  },
  {
   "cell_type": "markdown",
   "metadata": {},
   "source": [
    "## Analytical solution"
   ]
  },
  {
   "attachments": {},
   "cell_type": "markdown",
   "metadata": {},
   "source": [
    "First step is to solve the model analytically if possible. \n",
    "\n",
    "We start of by defining the parameters we use in our function using Sympy. \n",
    "\n",
    "Afterwards, we solve for $k^*$ in our capital accumulation function derived above.\n",
    "\n",
    "Lastly, we turn our function into a python function using Sympy.lambdify."
   ]
  },
  {
   "cell_type": "code",
   "execution_count": 15,
   "metadata": {},
   "outputs": [],
   "source": [
    "# Defining parameters as symbols\n",
    "alpha = sm.symbols('alpha')\n",
    "A = sm.symbols('A')\n",
    "k = sm.symbols('k')\n",
    "rho = sm.symbols('rho')\n",
    "n = sm.symbols('n')"
   ]
  },
  {
   "cell_type": "code",
   "execution_count": 16,
   "metadata": {},
   "outputs": [
    {
     "data": {
      "text/latex": [
       "$\\displaystyle \\left(\\frac{A \\left(1 - \\alpha\\right)}{n \\rho + 2 n + \\rho + 2}\\right)^{- \\frac{1}{\\alpha - 1}}$"
      ],
      "text/plain": [
       "(A*(1 - alpha)/(n*rho + 2*n + rho + 2))**(-1/(alpha - 1))"
      ]
     },
     "execution_count": 16,
     "metadata": {},
     "output_type": "execute_result"
    }
   ],
   "source": [
    "# Solving for steady state using Sympy.solve\n",
    "steady_state = sm.Eq(k, (A*(1-alpha)*k**alpha)/((1+n)*(2+rho)))\n",
    "kss = sm.solve(steady_state, k)[0]\n",
    "kss"
   ]
  },
  {
   "attachments": {},
   "cell_type": "markdown",
   "metadata": {},
   "source": [
    "The expression above is the solution for the steady state. If we rearrange the expression we will obtain the following expression for steady state:\n",
    "$$\n",
    "k^* = \\bigr[\\frac{A(1-\\alpha)}{(1+n)(2+\\rho)}\\bigr]^\\frac{1}{1-\\alpha}\n",
    "$$"
   ]
  },
  {
   "cell_type": "code",
   "execution_count": 17,
   "metadata": {},
   "outputs": [
    {
     "data": {
      "text/plain": [
       "0.051652892561983466"
      ]
     },
     "execution_count": 17,
     "metadata": {},
     "output_type": "execute_result"
    }
   ],
   "source": [
    "# Turning our function into a python function using Sympy.lambdify\n",
    "ss_func = sm.lambdify((rho,A,alpha,n),kss)\n",
    "ss_func(0.2, 1, 0.5, 0.0)"
   ]
  },
  {
   "cell_type": "markdown",
   "metadata": {},
   "source": [
    "## Numerical solution"
   ]
  },
  {
   "cell_type": "markdown",
   "metadata": {},
   "source": [
    "You can always solve a model numerically. \n",
    "\n",
    "Define first the set of parameters you need. \n",
    "\n",
    "Then choose one of the optimization algorithms that we have gone through in the lectures based on what you think is most fitting for your model.\n",
    "\n",
    "Are there any problems with convergence? Does the model converge for all starting values? Make a lot of testing to figure these things out. "
   ]
  },
  {
   "attachments": {},
   "cell_type": "markdown",
   "metadata": {},
   "source": [
    "We start of by defining the values of the parameters. \n",
    "\n",
    "We optimize algorithms using the brentq method. Husk at overvej hvilken metode vi skal anvende og argumenter for, hvorfor vi har valgt netop denne metode. "
   ]
  },
  {
   "cell_type": "code",
   "execution_count": 18,
   "metadata": {},
   "outputs": [],
   "source": [
    "# Setting parameters\n",
    "rho = 0.2\n",
    "A = 1\n",
    "alpha = 0.5\n",
    "n = 0.00"
   ]
  },
  {
   "cell_type": "code",
   "execution_count": 19,
   "metadata": {},
   "outputs": [
    {
     "data": {
      "text/plain": [
       "0.051652892561983466"
      ]
     },
     "execution_count": 19,
     "metadata": {},
     "output_type": "execute_result"
    }
   ],
   "source": [
    "# Defining the objective\n",
    "obj = lambda k: k - ((A*(1-alpha)*k**alpha)/((1+n)*(2+rho)))\n",
    "\n",
    "# Optimizing the model and finding the roots\n",
    "result = optimize.root_scalar(obj,bracket=[1e-10,10],method='brentq') \n",
    "result.root"
   ]
  },
  {
   "attachments": {},
   "cell_type": "markdown",
   "metadata": {},
   "source": [
    "From the giving values of the parameters we find that steady state, $k^*$, is equal to 0.052. $\\newline$\n",
    "It follows that $k_{t+1}$ is a concave function of $k_t$, which means that there will be a unique steady state and we will converge to it. "
   ]
  },
  {
   "cell_type": "code",
   "execution_count": 20,
   "metadata": {},
   "outputs": [
    {
     "name": "stdout",
     "output_type": "stream",
     "text": [
      "initializing the model:\n",
      "calling .setup()\n",
      "calling .allocate()\n"
     ]
    }
   ],
   "source": [
    "# The following code is for the start of the simulation of the model. \n",
    "from modelproject import modelclass\n",
    "\n",
    "model = modelclass()\n",
    "\n",
    "par = model.par\n",
    "sim = model.sim"
   ]
  },
  {
   "cell_type": "code",
   "execution_count": 21,
   "metadata": {},
   "outputs": [
    {
     "name": "stdout",
     "output_type": "stream",
     "text": [
      "initializing the model:\n",
      "calling .setup()\n",
      "calling .allocate()\n",
      "Consumption by old people in period t = 0 sim.C2[0] =  0.2504\n",
      "Consumption by young in period t = 0 sim.C1[0] =  0.2105\n",
      "Consumption by old people in period t sim.C2[1] =  0.3126\n",
      "Consumption by young people in period t sim.C1[1] =  0.2411\n",
      "euler-error = -2.16776072\n",
      "simulation done in 0.01 secs\n",
      "euler error after model has been simulated 3.2216451728572792e-12\n"
     ]
    }
   ],
   "source": [
    "model.sim_results()"
   ]
  },
  {
   "cell_type": "code",
   "execution_count": 28,
   "metadata": {},
   "outputs": [],
   "source": [
    "par.rho = 0.66\n",
    "kss_test = ((1-par.alpha)/((1+par.n)*(2+par.rho)))**(1/(1-par.alpha))"
   ]
  },
  {
   "cell_type": "code",
   "execution_count": 29,
   "metadata": {},
   "outputs": [
    {
     "data": {
      "image/png": "[encoded data removed]",
      "text/plain": [
       "<Figure size 600x400 with 1 Axes>"
      ]
     },
     "metadata": {},
     "output_type": "display_data"
    }
   ],
   "source": [
    "fig = plt.figure(figsize=(6,6/1.5))\n",
    "ax = fig.add_subplot(1,1,1)\n",
    "ax.plot(model.sim.K,label=r'$K_{t}$')\n",
    "ax.axhline(kss_test,ls='--',color='black',label='analytical steady state')\n",
    "ax.legend(frameon=True)\n",
    "fig.tight_layout()\n",
    "K_lag_old = model.sim.K.copy()"
   ]
  },
  {
   "cell_type": "markdown",
   "metadata": {},
   "source": [
    "# Further analysis"
   ]
  },
  {
   "attachments": {},
   "cell_type": "markdown",
   "metadata": {},
   "source": [
    "We now want to expand our model where we look at different rates for population growth (n). "
   ]
  },
  {
   "cell_type": "code",
   "execution_count": null,
   "metadata": {},
   "outputs": [],
   "source": [
    "n = [0.01, 0.02, 0.03, 0.04, 0.05]\n",
    "\n",
    "# Creating an empty list to store the values of steady state\n",
    "solution = []\n",
    "\n",
    "for n in ns: \n",
    "    f_a = lambda k1: (A*(1-alpha)*k**alpha)/((1+n)*(2+rho))\n",
    "    f_b = lambda k2: (1+n)*f_a(k2)\n",
    "    f_c = lambda k3: k3 - f_b(k3)\n",
    "    res1 = optimize.root_scalar(f_c,bracket=[1e-10,10],method='brentq') # i py-filen bruger han bisect?\n",
    "    solution.append(res1.root)\n",
    "    print(res1.root)\n"
   ]
  },
  {
   "cell_type": "code",
   "execution_count": null,
   "metadata": {},
   "outputs": [],
   "source": [
    "# Creating figure\n",
    "def plot_tau():\n",
    "    fig = plt.figure()\n",
    "\n",
    "    # Creating the plot\n",
    "    ax = fig.add_subplot(1,1,1)\n",
    "\n",
    "    ax.plot(taus, solution)\n",
    "\n",
    "    # Add labels and title\n",
    "    ax.set_title('Steady state for different values of tau')\n",
    "    ax.set_xlabel('Fraction of contribution from youngs wages')\n",
    "    ax.set_ylabel('Steady state')\n",
    "\n",
    "# Print\n",
    "plot_tau()"
   ]
  },
  {
   "attachments": {},
   "cell_type": "markdown",
   "metadata": {},
   "source": [
    "From the plot above we see that as $\\tau$ is increasing the steady state for capital is decreasing. \n",
    "\n",
    "One explanation for this is that when young poeple have to pay a larger fraction of their wage to the old people in the same period, the young people then have a smaller incentive to work and therefore the overall capital will decrease. "
   ]
  },
  {
   "cell_type": "markdown",
   "metadata": {},
   "source": [
    "# Conclusion"
   ]
  },
  {
   "attachments": {},
   "cell_type": "markdown",
   "metadata": {},
   "source": [
    "From the analysis above we see that, when there is no population growth ($n = 0$), we find steady state to be 0.0125 for $\\tau = 0.4$. $\\newline$\n",
    "When we then change the population growth, such that $n = 0.5$ we find that the steady state increases for $\\tau = 0.4$, such that steady state now is 0.0237. \n",
    "\n",
    "This is in accordance to what we expect since when the population is growing, there will be more young people to work and therefore, the steady state value for capital will increase as well. "
   ]
  }
 ],
 "metadata": {
  "kernelspec": {
   "display_name": "base",
   "language": "python",
   "name": "python3"
  },
  "language_info": {
   "codemirror_mode": {
    "name": "ipython",
    "version": 3
   },
   "file_extension": ".py",
   "mimetype": "text/x-python",
   "name": "python",
   "nbconvert_exporter": "python",
   "pygments_lexer": "ipython3",
   "version": "3.9.13"
  },
  "toc-autonumbering": true,
  "vscode": {
   "interpreter": {
    "hash": "133e6f24e0f08af65007c08bc55563c197499db9ca83b4c9dcbc8c36e18e8d70"
   }
  }
 },
 "nbformat": 4,
 "nbformat_minor": 4
}
