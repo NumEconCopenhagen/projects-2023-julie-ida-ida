{
 "cells": [
  {
   "attachments": {},
   "cell_type": "markdown",
   "metadata": {},
   "source": [
    "# MODEL PROJECT"
   ]
  },
  {
   "cell_type": "markdown",
   "metadata": {},
   "source": [
    "Imports and set magics:"
   ]
  },
  {
   "cell_type": "code",
   "execution_count": 1,
   "metadata": {},
   "outputs": [],
   "source": [
    "import numpy as np\n",
    "from scipy import optimize\n",
    "import sympy as sm\n",
    "from types import SimpleNamespace\n",
    "\n",
    "# autoreload modules when code is run\n",
    "%load_ext autoreload\n",
    "%autoreload 2\n",
    "\n",
    "# local modules\n",
    "import modelproject\n",
    "\n",
    "import ipywidgets as widgets\n",
    "\n",
    "import matplotlib.pyplot as plt\n",
    "plt.rcParams.update({\"axes.grid\":True,\"grid.color\":\"black\",\"grid.alpha\":\"0.25\",\"grid.linestyle\":\"--\"})\n",
    "plt.rcParams.update({'font.size': 14})"
   ]
  },
  {
   "cell_type": "markdown",
   "metadata": {},
   "source": [
    "# Model description"
   ]
  },
  {
   "attachments": {},
   "cell_type": "markdown",
   "metadata": {},
   "source": [
    "We consider a two period OLG model where we include an Euler equation. We start of by looking at a model where n = 0 which means that the population is static.\n",
    "\n",
    "**Firms maximization problem**\n",
    "$$\n",
    "\\max_{K_t, L_t}  AK_t^{\\alpha}L_t^{1-\\alpha} - R_tK_t - w_tL_t\n",
    "$$\n",
    "$R_t$ is the rental rate on capital. $w_t$ is defined as the wage rate. $L_t$ and $K_t$ is the labor and capital employed by a firm. $A$ is the total factor productivity and must be greater than 0. $\\alpha \\in (0,1)$ and is the percentage of capital the consumer uses in their production process.\n",
    "\n",
    "We write up the utility for young individuals. $\\newline$\n",
    "**Saving problem for a individual:**\n",
    "$$\n",
    "U_T = \\ln(c_{1t}) + \\frac{1}{1+\\rho} \\ln(c_{2t+1})\n",
    "$$\n",
    "$c_{1t}$ is consumption when young and $c_{2t+1}$ is consumption when old. We know that $\\rho$ should be larger than $-1$. \n",
    "$\\newline$\n",
    "Furthermore, we know that for young people their wage is equal to their labor income, but for old people their income is equal to savings and social security benefits. This means that we assume that old people do not work. \n",
    "\n",
    "To be able to solve the model we list some budget constraints for our model. $\\newline$\n",
    "**Budget constraints:**\n",
    "$$\n",
    "c_{1t} + s_t = w_t (1-\\tau)\n",
    "$$\n",
    "$$\n",
    "c_{2t+1} = s_t (1+r_{t+1}) + \\tau w_{t+1}\n",
    "$$\n",
    "\n",
    "Solving the problem yields the **Euler equation:**\n",
    "$$\n",
    "c_{2t+1} = \\frac{1+r_{t+1}}{1+\\rho}c_{1t}\n",
    "$$\n",
    "$\\tau$ is defined as the fraction of the contribution from the young people to the old people which is paid out in the same period. It is a fraction of their wages. $\\tau$ should be between 0 and 1. \n",
    "\n",
    "We would now like to derive the expression for the savings, $s_t$. $\\newline$\n",
    "**Replacing $c_{1t}$ and $c_{2t+1}$ from the budget constraints in the Euler equaiton:**\n",
    "$$\n",
    "s_t = \\frac{1}{2+\\rho} w_t (1-\\tau) - \\tau \\frac{1+\\rho}{2+\\rho} \\frac{1}{1+r_{t+1}} w_{t+1}\n",
    "$$\n",
    "\n",
    "We know that $K_{t+1} = S_t \\leftrightarrow k_{t+1} = \\frac{s_t}{1+n}$ and $n=0$ due to no population growth. Therefore, we can find the following expression for $k_{t+1}$:\n",
    "$$\n",
    "k_{t+1} = \\frac{1}{2+\\rho} w_t (1-\\tau) - \\tau \\frac{1+\\rho}{2+\\rho} \\frac{1}{1+r_{t+1}} w_{t+1}\n",
    "$$\n",
    "\n",
    "In order to find the capital accumulation we need de derive the wage rate and the rental rate on capital. $\\newline$\n",
    "**FOCs of the profit function in per capita terms are:**\n",
    "$$\n",
    "0 = (1-\\alpha) A K_t^\\alpha L_{t}^{-\\alpha} - w_t \\leftrightarrow w_t = (1-\\alpha) A K_t^\\alpha L_{t}^{-\\alpha} \\leftrightarrow w_t = (1-\\alpha)A(\\frac{K_t}{L_t})^\\alpha \\leftrightarrow \\newline w_t = (1-\\alpha)Ak_t^\\alpha\n",
    "$$\n",
    "$$\n",
    "0 = \\alpha A K_{t}^{\\alpha-1}L_t^{1-\\alpha} -R_{t} \\leftrightarrow R_t = \\alpha A K_{t}^{\\alpha-1}L_t^{1-\\alpha} \\leftrightarrow R_t = \\alpha A (\\frac{K_t}{L_t})^{\\alpha-1} \\leftrightarrow \\newline R_t = 1 + r_{t+1} = \\alpha A k_t^{\\alpha - 1}\n",
    "$$\n",
    "\n",
    "By inserting $w_t$, $w_{t+1}$ and $r_{t+1}$ in $k_{t+1}$ we find that the **capital accumulation** is given by: \n",
    "$$\n",
    "k_{t+1} = \\frac{1}{2+\\rho} (1-\\alpha)Ak_t^\\alpha (1-\\tau) - \\tau \\frac{1+\\rho}{2+\\rho} \\frac{1-\\alpha}{\\alpha}k_{t+1}\n",
    "$$\n",
    "\n",
    "When in steady state we know that $k_{t+1} = k_t = k^*$. Therefore, we also find that the expression for steady state for capital is: $\\newline$\n",
    "**Steady state:**\n",
    "$$\n",
    "k^* = [\\frac{1}{1+\\frac{1+\\rho}{2+\\rho} \\frac{1-\\alpha}{\\alpha}\\tau} (\\frac{1}{2+\\rho}(1-\\alpha)A(1-\\tau))]^\\frac{1}{1-\\alpha}\n",
    "$$"
   ]
  },
  {
   "cell_type": "markdown",
   "metadata": {},
   "source": [
    "## Analytical solution"
   ]
  },
  {
   "attachments": {},
   "cell_type": "markdown",
   "metadata": {},
   "source": [
    "First step is to solve the model analytically if possible. \n",
    "\n",
    "We start of by defining the parameters we use in our function using Sympy. \n",
    "\n",
    "Afterwards, we solve for $k^*$ in our capital accumulation function derived above.\n",
    "\n",
    "Lastly, we turn our function into a python function using Sympy.lambdify."
   ]
  },
  {
   "cell_type": "code",
   "execution_count": 2,
   "metadata": {},
   "outputs": [],
   "source": [
    "# Defining parameters as symbols\n",
    "rho = sm.symbols('rho')\n",
    "tau = sm.symbols('tau')\n",
    "A = sm.symbols('A')\n",
    "alpha = sm.symbols('alpha')\n",
    "k = sm.symbols('k')"
   ]
  },
  {
   "cell_type": "code",
   "execution_count": 3,
   "metadata": {},
   "outputs": [
    {
     "data": {
      "text/latex": [
       "$\\displaystyle \\left(\\frac{- \\alpha \\rho^{2} \\tau - 3 \\alpha \\rho \\tau - 2 \\alpha \\tau + \\alpha \\left(\\rho + 2\\right)^{2} + \\rho^{2} \\tau + 3 \\rho \\tau + 2 \\tau}{A \\alpha \\left(\\alpha \\rho \\tau - \\alpha \\rho + 2 \\alpha \\tau - 2 \\alpha - \\rho \\tau + \\rho - 2 \\tau + 2\\right)}\\right)^{\\frac{1}{\\alpha - 1}}$"
      ],
      "text/plain": [
       "((-alpha*rho**2*tau - 3*alpha*rho*tau - 2*alpha*tau + alpha*(rho + 2)**2 + rho**2*tau + 3*rho*tau + 2*tau)/(A*alpha*(alpha*rho*tau - alpha*rho + 2*alpha*tau - 2*alpha - rho*tau + rho - 2*tau + 2)))**(1/(alpha - 1))"
      ]
     },
     "execution_count": 3,
     "metadata": {},
     "output_type": "execute_result"
    }
   ],
   "source": [
    "# Solving for steady state using Sympy.solve\n",
    "steady_state = sm.Eq(k, (1/(2+rho))*(1-alpha)*A*k**alpha*(1-tau)-tau*((1+rho)/(2+rho))*((1-alpha)/alpha)*k)\n",
    "ks = sm.solve(steady_state, k)[0]\n",
    "ks"
   ]
  },
  {
   "attachments": {},
   "cell_type": "markdown",
   "metadata": {},
   "source": [
    "The expression above is the solution for the steady state. If we rearrange the expression we will obtain the following expression for steady state:\n",
    "$$\n",
    "k^* = [\\frac{1}{1+\\frac{1+\\rho}{2+\\rho} \\frac{1-\\alpha}{\\alpha}\\tau} (\\frac{1}{2+\\rho}(1-\\alpha)A(1-\\tau))]^\\frac{1}{1-\\alpha}\n",
    "$$"
   ]
  },
  {
   "cell_type": "code",
   "execution_count": 4,
   "metadata": {},
   "outputs": [
    {
     "data": {
      "text/plain": [
       "0.012530630429939847"
      ]
     },
     "execution_count": 4,
     "metadata": {},
     "output_type": "execute_result"
    }
   ],
   "source": [
    "# Turning our function into a python function using Sympy.lambdify\n",
    "ss_func = sm.lambdify((rho,tau,A,alpha),ks)\n",
    "ss_func(0.2, 0.4, 1, 0.5)"
   ]
  },
  {
   "cell_type": "markdown",
   "metadata": {},
   "source": [
    "## Numerical solution"
   ]
  },
  {
   "cell_type": "markdown",
   "metadata": {},
   "source": [
    "You can always solve a model numerically. \n",
    "\n",
    "Define first the set of parameters you need. \n",
    "\n",
    "Then choose one of the optimization algorithms that we have gone through in the lectures based on what you think is most fitting for your model.\n",
    "\n",
    "Are there any problems with convergence? Does the model converge for all starting values? Make a lot of testing to figure these things out. "
   ]
  },
  {
   "attachments": {},
   "cell_type": "markdown",
   "metadata": {},
   "source": [
    "We start of by defining the values of the parameters. \n",
    "\n",
    "We optimize algorithms using the brentq method. Husk at overvej hvilken metode vi skal anvende og argumenter for, hvorfor vi har valgt netop denne metode. "
   ]
  },
  {
   "cell_type": "code",
   "execution_count": 5,
   "metadata": {},
   "outputs": [],
   "source": [
    "# Setting parameters\n",
    "rho = 0.2\n",
    "tau = 0.4\n",
    "A = 1\n",
    "alpha = 0.5"
   ]
  },
  {
   "cell_type": "code",
   "execution_count": 6,
   "metadata": {},
   "outputs": [
    {
     "data": {
      "text/plain": [
       "0.012530630429939852"
      ]
     },
     "execution_count": 6,
     "metadata": {},
     "output_type": "execute_result"
    }
   ],
   "source": [
    "# Defining the objective\n",
    "obj = lambda k: k - ((1/(2+rho))*(1-alpha)*A*k**alpha*(1-tau)-tau*((1+rho)/(2+rho))*((1-alpha)/alpha)*k)\n",
    "\n",
    "# Optimizing the model and finding the roots\n",
    "result = optimize.root_scalar(obj,bracket=[1e-10,10],method='brentq') \n",
    "result.root"
   ]
  },
  {
   "attachments": {},
   "cell_type": "markdown",
   "metadata": {},
   "source": [
    "From the giving values of the parameters we find that steady state, $k^*$, is equal to 0.03. $\\newline$\n",
    "Since we are using a OLG model we know that convergence is not a problem. "
   ]
  },
  {
   "cell_type": "code",
   "execution_count": 7,
   "metadata": {},
   "outputs": [
    {
     "name": "stdout",
     "output_type": "stream",
     "text": [
      "initializing the model:\n",
      "calling .setup()\n",
      "calling .allocate()\n"
     ]
    }
   ],
   "source": [
    "# The following code is for the start of the simulation of the model. \n",
    "from modelproject import modelclass\n",
    "\n",
    "model = modelclass()"
   ]
  },
  {
   "attachments": {},
   "cell_type": "markdown",
   "metadata": {},
   "source": [
    "We tried to simulate the model in our py-file without luck. When running the code 'model.simulate()' we get the error: \n",
    "AttributeError: 'modelclass' object has no attribute 'simT'. $\\newline$\n",
    "Therefore, we have not included this since it would give us an error give, when we run the whole notebook. "
   ]
  },
  {
   "cell_type": "markdown",
   "metadata": {},
   "source": [
    "# Further analysis"
   ]
  },
  {
   "attachments": {},
   "cell_type": "markdown",
   "metadata": {},
   "source": [
    "We now wanna expand our model where we look at population growth. This means that n is not equal to 0 anymore.\n",
    "\n",
    "We try to do a for loop for different values of the fraction that the young contributes to the old through their wages, $\\tau$. We then wanna see how the steady state changes."
   ]
  },
  {
   "cell_type": "code",
   "execution_count": 8,
   "metadata": {},
   "outputs": [
    {
     "name": "stdout",
     "output_type": "stream",
     "text": [
      "0.08043658639893675\n",
      "0.05493164062500001\n",
      "0.03671279769833235\n",
      "0.023749765434415468\n",
      "0.014633194588969821\n",
      "0.008365556216537775\n",
      "0.004228758060743761\n",
      "0.0016981644733021109\n",
      "0.0003854746306269055\n"
     ]
    }
   ],
   "source": [
    "n = 0.5\n",
    "taus = [0.1, 0.2, 0.3, 0.4, 0.5, 0.6, 0.7, 0.8, 0.9]\n",
    "\n",
    "# Creating an empty list to store the values of steady state\n",
    "solution = []\n",
    "\n",
    "for tau in taus: \n",
    "    f_a = lambda k1: (1/(2+rho))*(1-alpha)*A*k1**alpha*(1-tau)-tau*((1+rho)/(2+rho))*((1-alpha)/alpha)*k1\n",
    "    f_b = lambda k2: (1+n)*f_a(k2)\n",
    "    f_c = lambda k3: k3 - f_b(k3)\n",
    "    res1 = optimize.root_scalar(f_c,bracket=[1e-10,10],method='brentq') # i py-filen bruger han bisect?\n",
    "    solution.append(res1.root)\n",
    "    print(res1.root)\n"
   ]
  },
  {
   "cell_type": "code",
   "execution_count": 9,
   "metadata": {},
   "outputs": [
    {
     "data": {
      "image/png": "[encoded data removed]",
      "text/plain": [
       "<Figure size 640x480 with 1 Axes>"
      ]
     },
     "metadata": {},
     "output_type": "display_data"
    }
   ],
   "source": [
    "# Creating figure\n",
    "def plot_tau():\n",
    "    fig = plt.figure()\n",
    "\n",
    "    # Creating the plot\n",
    "    ax = fig.add_subplot(1,1,1)\n",
    "\n",
    "    ax.plot(taus, solution)\n",
    "\n",
    "    # Add labels and title\n",
    "    ax.set_title('Steady state for different values of tau')\n",
    "    ax.set_xlabel('Fraction of contribution from youngs wages')\n",
    "    ax.set_ylabel('Steady state')\n",
    "\n",
    "# Print\n",
    "plot_tau()"
   ]
  },
  {
   "attachments": {},
   "cell_type": "markdown",
   "metadata": {},
   "source": [
    "From the plot above we see that as $\\tau$ is increasing the steady state for capital is decreasing. \n",
    "\n",
    "One explanation for this is that when young poeple have to pay a larger fraction of their wage to the old people in the same period, the young people then have a smaller incentive to work and therefore the overall capital will decrease. "
   ]
  },
  {
   "cell_type": "markdown",
   "metadata": {},
   "source": [
    "# Conclusion"
   ]
  },
  {
   "attachments": {},
   "cell_type": "markdown",
   "metadata": {},
   "source": [
    "From the analysis above we see that, when there is no population growth ($n = 0$), we find steady state to be 0.0125 for $\\tau = 0.4$. $\\newline$\n",
    "When we then change the population growth, such that $n = 0.5$ we find that the steady state increases for $\\tau = 0.4$, such that steady state now is 0.0237. \n",
    "\n",
    "This is in accordance to what we expect since when the population is growing, there will be more young people to work and therefore, the steady state value for capital will increase as well. "
   ]
  }
 ],
 "metadata": {
  "kernelspec": {
   "display_name": "base",
   "language": "python",
   "name": "python3"
  },
  "language_info": {
   "codemirror_mode": {
    "name": "ipython",
    "version": 3
   },
   "file_extension": ".py",
   "mimetype": "text/x-python",
   "name": "python",
   "nbconvert_exporter": "python",
   "pygments_lexer": "ipython3",
   "version": "3.9.13"
  },
  "toc-autonumbering": true,
  "vscode": {
   "interpreter": {
    "hash": "133e6f24e0f08af65007c08bc55563c197499db9ca83b4c9dcbc8c36e18e8d70"
   }
  }
 },
 "nbformat": 4,
 "nbformat_minor": 4
}
