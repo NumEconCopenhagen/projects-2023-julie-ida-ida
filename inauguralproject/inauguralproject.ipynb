{
 "cells": [
  {
   "cell_type": "markdown",
   "metadata": {},
   "source": [
    "# Inaugural Project"
   ]
  },
  {
   "attachments": {},
   "cell_type": "markdown",
   "metadata": {},
   "source": [
    "**Group members:** Ida Margrethe Stagsted, Julie Danneberg Voss, Ida Marie Krogh Jensen \n"
   ]
  },
  {
   "cell_type": "markdown",
   "metadata": {},
   "source": [
    "Imports and set magics:"
   ]
  },
  {
   "cell_type": "code",
   "execution_count": 16,
   "metadata": {},
   "outputs": [
    {
     "name": "stdout",
     "output_type": "stream",
     "text": [
      "The autoreload extension is already loaded. To reload it, use:\n",
      "  %reload_ext autoreload\n"
     ]
    }
   ],
   "source": [
    "%load_ext autoreload\n",
    "%autoreload 2\n",
    "%matplotlib inline\n",
    "\n",
    "import numpy as np\n",
    "import matplotlib.pyplot as plt\n",
    "from scipy.stats import norm\n",
    "import ipywidgets as widgets\n",
    "from scipy import optimize\n",
    "import scipy.stats as stats\n",
    "\n",
    "# Import our class\n",
    "from HouseholdSpecializationModel import HouseholdSpecializationModelClass"
   ]
  },
  {
   "cell_type": "markdown",
   "metadata": {},
   "source": [
    "# Question 1"
   ]
  },
  {
   "attachments": {},
   "cell_type": "markdown",
   "metadata": {},
   "source": [
    "When we want to see the $H_F/H_M$ ratio for different values of alpha and sigma we construct a table with the possible 9 values."
   ]
  },
  {
   "cell_type": "code",
   "execution_count": 17,
   "metadata": {},
   "outputs": [
    {
     "name": "stderr",
     "output_type": "stream",
     "text": [
      "/Users/idamariekroghjensen/Documents/Kandidat/2. semester/Intro to progr. and numerical anal. /projects-2023-julie-ida-ida-3/inauguralproject/HouseholdSpecializationModel.py:63: RuntimeWarning: divide by zero encountered in reciprocal\n",
      "  \n",
      "/Users/idamariekroghjensen/Documents/Kandidat/2. semester/Intro to progr. and numerical anal. /projects-2023-julie-ida-ida-3/inauguralproject/HouseholdSpecializationModel.py:63: RuntimeWarning: invalid value encountered in reciprocal\n",
      "  \n",
      "/Users/idamariekroghjensen/Documents/Kandidat/2. semester/Intro to progr. and numerical anal. /projects-2023-julie-ida-ida-3/inauguralproject/HouseholdSpecializationModel.py:67: RuntimeWarning: invalid value encountered in reciprocal\n",
      "  \n"
     ]
    },
    {
     "name": "stdout",
     "output_type": "stream",
     "text": [
      "        0     1     2\n",
      "  0  0.545 0.308 0.214\n",
      "  1  1.000 1.000 1.000\n",
      "  2  1.833 3.250 4.667\n"
     ]
    }
   ],
   "source": [
    "# code for solving the model\n",
    "\n",
    "from HouseholdSpecializationModel import HouseholdSpecializationModelClass as HC\n",
    "\n",
    "alpha = [0.25, 0.50, 0.75]\n",
    "sigma = [0.50, 1.00, 1.50]\n",
    "\n",
    "function = HC() # Her trækker vi på funktionerne eller class\n",
    "\n",
    "def print_table(alpha, sigma): #her printes en tabel over alpha og sigma\n",
    "    \n",
    "    # a. empty text\n",
    "    text = ''\n",
    "    \n",
    "    # b. top header\n",
    "    text += f'{\"\":3s}'\n",
    "    for j, HF in enumerate(sigma):\n",
    "       text += f'{j:6d}' \n",
    "    text += '\\n' # line shift\n",
    "    \n",
    "    # c. body\n",
    "    for i, a in enumerate(alpha):\n",
    "        if i > 0:\n",
    "            text += '\\n' # line shift\n",
    "        text += f'{i:3d} ' # left header\n",
    "        for j, s in enumerate(sigma):\n",
    "            function.par.alpha = a\n",
    "            function.par.sigma = s\n",
    "            HM = function.solve_discrete().HM\n",
    "            HF = function.solve_discrete().HF\n",
    "            text += f'{HF/HM:6.3f}'\n",
    "    \n",
    "    # d. print\n",
    "    print(text)\n",
    "\n",
    "print_table(alpha,sigma)\n",
    "\n"
   ]
  },
  {
   "cell_type": "markdown",
   "metadata": {},
   "source": [
    "# Question 2"
   ]
  },
  {
   "cell_type": "markdown",
   "metadata": {},
   "source": [
    "Explain your code and procedure"
   ]
  },
  {
   "cell_type": "code",
   "execution_count": 18,
   "metadata": {},
   "outputs": [
    {
     "name": "stdout",
     "output_type": "stream",
     "text": [
      "[2.0794415416798357, 1.6094379124341003, 1.540445040947149, 1.540445040947149, 1.466337068793427]\n",
      "[-0.22314355 -0.10536052  0.          0.09531018  0.18232156]\n"
     ]
    },
    {
     "data": {
      "image/png": "[encoded data removed]",
      "text/plain": [
       "<Figure size 640x480 with 1 Axes>"
      ]
     },
     "metadata": {},
     "output_type": "display_data"
    }
   ],
   "source": [
    "solution_wage = []\n",
    "\n",
    "HM_wage_vec = ()\n",
    "HF_wage_vec = ()\n",
    "wF = (0.8, 0.9, 1.0, 1.1, 1.2)\n",
    "\n",
    "for wages in wF:\n",
    "    function.par.wF = wages\n",
    "    solution_wage.append(function.solve_discrete())\n",
    "\n",
    "HF_wage_vec = [ns.HF for ns in solution_wage]\n",
    "HM_wage_vec = [ns.HM for ns in solution_wage]\n",
    "\n",
    "H_ratio = [np.log(HF_ny/HM_ny) for HF_ny,HM_ny in zip(HF_wage_vec,HM_wage_vec)]\n",
    "w_ratio = np.log(wF)\n",
    "\n",
    "print(H_ratio)\n",
    "print(w_ratio)\n",
    "\n",
    "\n",
    "# Vi starter med at lave en figur\n",
    "def plot_ratio():\n",
    "    fig = plt.figure() # create the figure\n",
    "\n",
    "    # Nu laver vi et plot\n",
    "    ax = fig.add_subplot(1,1,1) \n",
    "\n",
    "    ax.plot(w_ratio,H_ratio)\n",
    "\n",
    "    # b. add labels\n",
    "    ax.set_title('Household hours and wages ratio')\n",
    "    ax.set_xlabel('$wF/wM$')\n",
    "    ax.set_ylabel('$HF/HM$')\n",
    "\n",
    "plot_ratio()\n"
   ]
  },
  {
   "cell_type": "markdown",
   "metadata": {},
   "source": [
    "# Question 3"
   ]
  },
  {
   "cell_type": "markdown",
   "metadata": {},
   "source": [
    "Explain your code and procedure"
   ]
  },
  {
   "cell_type": "code",
   "execution_count": 19,
   "metadata": {},
   "outputs": [
    {
     "name": "stdout",
     "output_type": "stream",
     "text": [
      "[0.2252006001808949, 9.754729058551197e-05, 2.154359799344263e-09, -8.680131447473675e-05, -0.18662683544420072]\n",
      "[-0.22314355 -0.10536052  0.          0.09531018  0.18232156]\n"
     ]
    }
   ],
   "source": [
    "solution_con = []\n",
    "\n",
    "wF = (0.8, 0.9, 1.0, 1.1, 1.2)\n",
    "\n",
    "for wages in wF:\n",
    "    function_1 = HouseholdSpecializationModelClass()\n",
    "    function_1.par.wF = wages\n",
    "    solution_con.append(function_1.solve_con())\n",
    "\n",
    "HF_wage_vec_con = [ns[3] for ns in solution_con]\n",
    "HM_wage_vec_con = [ns[2] for ns in solution_con]\n",
    "\n",
    "H_ratio_con = [np.log(HF_a/HM_a) for HF_a, HM_a in zip(HF_wage_vec_con,HM_wage_vec_con)]\n",
    "w_ratio_con = np.log(wF)\n",
    "\n",
    "print(H_ratio_con)\n",
    "print(w_ratio_con)\n"
   ]
  },
  {
   "cell_type": "code",
   "execution_count": 20,
   "metadata": {},
   "outputs": [
    {
     "data": {
      "image/png": "[encoded data removed]",
      "text/plain": [
       "<Figure size 640x480 with 1 Axes>"
      ]
     },
     "metadata": {},
     "output_type": "display_data"
    }
   ],
   "source": [
    "def plot_cont():\n",
    "    fig = plt.figure() # create the figure\n",
    "\n",
    "    # Nu laver vi et plot\n",
    "    ax = fig.add_subplot(1,1,1) \n",
    "\n",
    "    ax.plot(w_ratio_con,H_ratio_con)\n",
    "\n",
    "    # b. add labels\n",
    "    ax.set_title('Cont')\n",
    "    ax.set_xlabel('$wF/wM$')\n",
    "    ax.set_ylabel('$HF/HM$')\n",
    "\n",
    "plot_cont()"
   ]
  },
  {
   "attachments": {},
   "cell_type": "markdown",
   "metadata": {},
   "source": [
    "# Question 4"
   ]
  },
  {
   "attachments": {},
   "cell_type": "markdown",
   "metadata": {},
   "source": [
    "Explain your code and procedure"
   ]
  },
  {
   "cell_type": "code",
   "execution_count": 31,
   "metadata": {},
   "outputs": [
    {
     "ename": "TypeError",
     "evalue": "est() missing 1 required positional argument: 'x'",
     "output_type": "error",
     "traceback": [
      "\u001b[0;31m---------------------------------------------------------------------------\u001b[0m",
      "\u001b[0;31mTypeError\u001b[0m                                 Traceback (most recent call last)",
      "\u001b[0;32m/var/folders/3w/n1_fmpsx3tx3kcb_y3k42wcw0000gp/T/ipykernel_28263/4179469934.py\u001b[0m in \u001b[0;36m<module>\u001b[0;34m\u001b[0m\n\u001b[1;32m      6\u001b[0m     \u001b[0mfunction_1\u001b[0m \u001b[0;34m=\u001b[0m \u001b[0mHouseholdSpecializationModelClass\u001b[0m\u001b[0;34m(\u001b[0m\u001b[0;34m)\u001b[0m\u001b[0;34m\u001b[0m\u001b[0;34m\u001b[0m\u001b[0m\n\u001b[1;32m      7\u001b[0m     \u001b[0mfunction_1\u001b[0m\u001b[0;34m.\u001b[0m\u001b[0mpar\u001b[0m\u001b[0;34m.\u001b[0m\u001b[0mwF\u001b[0m \u001b[0;34m=\u001b[0m \u001b[0mwages_beta\u001b[0m\u001b[0;34m\u001b[0m\u001b[0;34m\u001b[0m\u001b[0m\n\u001b[0;32m----> 8\u001b[0;31m     \u001b[0msolution_beta\u001b[0m\u001b[0;34m.\u001b[0m\u001b[0mappend\u001b[0m\u001b[0;34m(\u001b[0m\u001b[0mfunction_1\u001b[0m\u001b[0;34m.\u001b[0m\u001b[0mest\u001b[0m\u001b[0;34m(\u001b[0m\u001b[0;34m)\u001b[0m\u001b[0;34m)\u001b[0m\u001b[0;34m\u001b[0m\u001b[0;34m\u001b[0m\u001b[0m\n\u001b[0m\u001b[1;32m      9\u001b[0m \u001b[0;34m\u001b[0m\u001b[0m\n\u001b[1;32m     10\u001b[0m \u001b[0mHF_wage_vec_beta\u001b[0m \u001b[0;34m=\u001b[0m \u001b[0;34m[\u001b[0m\u001b[0mns\u001b[0m\u001b[0;34m.\u001b[0m\u001b[0mbeta0\u001b[0m \u001b[0;32mfor\u001b[0m \u001b[0mns\u001b[0m \u001b[0;32min\u001b[0m \u001b[0msolution_beta\u001b[0m\u001b[0;34m]\u001b[0m\u001b[0;34m\u001b[0m\u001b[0;34m\u001b[0m\u001b[0m\n",
      "\u001b[0;31mTypeError\u001b[0m: est() missing 1 required positional argument: 'x'"
     ]
    }
   ],
   "source": [
    "\n"
   ]
  },
  {
   "attachments": {},
   "cell_type": "markdown",
   "metadata": {},
   "source": [
    "# Question 5"
   ]
  },
  {
   "attachments": {},
   "cell_type": "markdown",
   "metadata": {},
   "source": [
    "Explain your code and procedure"
   ]
  },
  {
   "cell_type": "code",
   "execution_count": null,
   "metadata": {},
   "outputs": [],
   "source": [
    "# Code for question 5"
   ]
  }
 ],
 "metadata": {
  "kernelspec": {
   "display_name": "base",
   "language": "python",
   "name": "python3"
  },
  "language_info": {
   "codemirror_mode": {
    "name": "ipython",
    "version": 3
   },
   "file_extension": ".py",
   "mimetype": "text/x-python",
   "name": "python",
   "nbconvert_exporter": "python",
   "pygments_lexer": "ipython3",
   "version": "3.9.13"
  },
  "toc-autonumbering": true,
  "vscode": {
   "interpreter": {
    "hash": "47ef90cdf3004d3f859f1fb202523c65c07ba7c22eefd261b181f4744e2d0403"
   }
  }
 },
 "nbformat": 4,
 "nbformat_minor": 4
}
