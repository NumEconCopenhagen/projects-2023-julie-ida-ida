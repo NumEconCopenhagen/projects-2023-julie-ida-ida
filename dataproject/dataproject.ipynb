{
 "cells": [
  {
   "cell_type": "markdown",
   "metadata": {},
   "source": [
    "# YOUR PROJECT TITLE"
   ]
  },
  {
   "attachments": {},
   "cell_type": "markdown",
   "metadata": {},
   "source": [
    "> **Note the following:** \n",
    "> 1. This is *not* meant to be an example of an actual **data analysis project**, just an example of how to structure such a project.\n",
    "> 1. Remember the general advice on structuring and commenting your code\n",
    "> 1. The `dataproject.py` file includes a function which can be used multiple times in this notebook."
   ]
  },
  {
   "cell_type": "markdown",
   "metadata": {},
   "source": [
    "Imports and set magics:"
   ]
  },
  {
   "cell_type": "code",
   "execution_count": 61,
   "metadata": {},
   "outputs": [
    {
     "name": "stdout",
     "output_type": "stream",
     "text": [
      "The autoreload extension is already loaded. To reload it, use:\n",
      "  %reload_ext autoreload\n"
     ]
    }
   ],
   "source": [
    "import pandas as pd\n",
    "import numpy as np\n",
    "\n",
    "import matplotlib.pyplot as plt\n",
    "plt.rcParams.update({\"axes.grid\":True,\"grid.color\":\"black\",\"grid.alpha\":\"0.25\",\"grid.linestyle\":\"--\"})\n",
    "plt.rcParams.update({'font.size': 14})\n",
    "plt.style.use('seaborn-whitegrid')\n",
    "\n",
    "import ipywidgets as widgets\n",
    "from matplotlib_venn import venn2\n",
    "\n",
    "import pydst\n",
    "dst = pydst.Dst(lang='en')  \n",
    "\n",
    "# autoreload modules when code is run\n",
    "%load_ext autoreload\n",
    "%autoreload 2\n",
    "\n",
    "# user written modules\n",
    "import dataproject\n"
   ]
  },
  {
   "cell_type": "markdown",
   "metadata": {},
   "source": [
    "# Read and clean data"
   ]
  },
  {
   "cell_type": "markdown",
   "metadata": {},
   "source": [
    "Import your data, either through an API or manually, and load it. "
   ]
  },
  {
   "cell_type": "code",
   "execution_count": 65,
   "metadata": {},
   "outputs": [
    {
     "name": "stdout",
     "output_type": "stream",
     "text": [
      "['Unnamed: 0', 'Unnamed: 1', 'Unnamed: 2', 'Unnamed: 3', 'Unnamed: 4']\n"
     ]
    },
    {
     "data": {
      "text/html": [
       "<div>\n",
       "<style scoped>\n",
       "    .dataframe tbody tr th:only-of-type {\n",
       "        vertical-align: middle;\n",
       "    }\n",
       "\n",
       "    .dataframe tbody tr th {\n",
       "        vertical-align: top;\n",
       "    }\n",
       "\n",
       "    .dataframe thead th {\n",
       "        text-align: right;\n",
       "    }\n",
       "</style>\n",
       "<table border=\"1\" class=\"dataframe\">\n",
       "  <thead>\n",
       "    <tr style=\"text-align: right;\">\n",
       "      <th></th>\n",
       "      <th>age_intervals</th>\n",
       "      <th>lon2013</th>\n",
       "      <th>lon2014</th>\n",
       "      <th>lon2015</th>\n",
       "      <th>lon2016</th>\n",
       "      <th>lon2017</th>\n",
       "      <th>lon2018</th>\n",
       "      <th>lon2019</th>\n",
       "      <th>lon2020</th>\n",
       "      <th>lon2021</th>\n",
       "    </tr>\n",
       "  </thead>\n",
       "  <tbody>\n",
       "    <tr>\n",
       "      <th>0</th>\n",
       "      <td>Alder i alt</td>\n",
       "      <td>309.21</td>\n",
       "      <td>312.75</td>\n",
       "      <td>315.84</td>\n",
       "      <td>318.39</td>\n",
       "      <td>324.98</td>\n",
       "      <td>334.30</td>\n",
       "      <td>340.88</td>\n",
       "      <td>346.28</td>\n",
       "      <td>352.15</td>\n",
       "    </tr>\n",
       "    <tr>\n",
       "      <th>1</th>\n",
       "      <td>Under 20 år</td>\n",
       "      <td>116.27</td>\n",
       "      <td>119.26</td>\n",
       "      <td>122.70</td>\n",
       "      <td>122.71</td>\n",
       "      <td>124.81</td>\n",
       "      <td>127.10</td>\n",
       "      <td>128.59</td>\n",
       "      <td>131.26</td>\n",
       "      <td>139.71</td>\n",
       "    </tr>\n",
       "    <tr>\n",
       "      <th>2</th>\n",
       "      <td>20-24 år</td>\n",
       "      <td>179.52</td>\n",
       "      <td>182.77</td>\n",
       "      <td>186.73</td>\n",
       "      <td>189.26</td>\n",
       "      <td>194.14</td>\n",
       "      <td>200.92</td>\n",
       "      <td>202.93</td>\n",
       "      <td>205.53</td>\n",
       "      <td>209.94</td>\n",
       "    </tr>\n",
       "    <tr>\n",
       "      <th>3</th>\n",
       "      <td>25-29 år</td>\n",
       "      <td>238.14</td>\n",
       "      <td>241.58</td>\n",
       "      <td>244.36</td>\n",
       "      <td>248.56</td>\n",
       "      <td>254.57</td>\n",
       "      <td>263.53</td>\n",
       "      <td>269.17</td>\n",
       "      <td>273.53</td>\n",
       "      <td>279.24</td>\n",
       "    </tr>\n",
       "    <tr>\n",
       "      <th>4</th>\n",
       "      <td>30-34 år</td>\n",
       "      <td>284.70</td>\n",
       "      <td>286.74</td>\n",
       "      <td>288.26</td>\n",
       "      <td>291.61</td>\n",
       "      <td>298.79</td>\n",
       "      <td>307.44</td>\n",
       "      <td>314.42</td>\n",
       "      <td>320.42</td>\n",
       "      <td>327.12</td>\n",
       "    </tr>\n",
       "    <tr>\n",
       "      <th>5</th>\n",
       "      <td>35-39 år</td>\n",
       "      <td>318.20</td>\n",
       "      <td>320.50</td>\n",
       "      <td>323.47</td>\n",
       "      <td>326.31</td>\n",
       "      <td>333.20</td>\n",
       "      <td>342.00</td>\n",
       "      <td>347.92</td>\n",
       "      <td>352.83</td>\n",
       "      <td>358.49</td>\n",
       "    </tr>\n",
       "    <tr>\n",
       "      <th>6</th>\n",
       "      <td>40-44 år</td>\n",
       "      <td>337.04</td>\n",
       "      <td>341.27</td>\n",
       "      <td>346.18</td>\n",
       "      <td>349.73</td>\n",
       "      <td>356.58</td>\n",
       "      <td>366.24</td>\n",
       "      <td>372.72</td>\n",
       "      <td>377.34</td>\n",
       "      <td>383.26</td>\n",
       "    </tr>\n",
       "    <tr>\n",
       "      <th>7</th>\n",
       "      <td>45-49 år</td>\n",
       "      <td>343.65</td>\n",
       "      <td>347.78</td>\n",
       "      <td>352.39</td>\n",
       "      <td>357.63</td>\n",
       "      <td>367.18</td>\n",
       "      <td>377.95</td>\n",
       "      <td>386.38</td>\n",
       "      <td>392.18</td>\n",
       "      <td>398.22</td>\n",
       "    </tr>\n",
       "    <tr>\n",
       "      <th>8</th>\n",
       "      <td>50-54 år</td>\n",
       "      <td>336.81</td>\n",
       "      <td>341.22</td>\n",
       "      <td>347.06</td>\n",
       "      <td>353.69</td>\n",
       "      <td>362.64</td>\n",
       "      <td>374.81</td>\n",
       "      <td>385.04</td>\n",
       "      <td>390.88</td>\n",
       "      <td>398.58</td>\n",
       "    </tr>\n",
       "    <tr>\n",
       "      <th>9</th>\n",
       "      <td>55-59 år</td>\n",
       "      <td>327.33</td>\n",
       "      <td>332.27</td>\n",
       "      <td>336.70</td>\n",
       "      <td>342.28</td>\n",
       "      <td>350.00</td>\n",
       "      <td>361.74</td>\n",
       "      <td>371.40</td>\n",
       "      <td>379.90</td>\n",
       "      <td>388.47</td>\n",
       "    </tr>\n",
       "    <tr>\n",
       "      <th>10</th>\n",
       "      <td>60 år og derover</td>\n",
       "      <td>332.62</td>\n",
       "      <td>335.00</td>\n",
       "      <td>336.20</td>\n",
       "      <td>336.75</td>\n",
       "      <td>342.87</td>\n",
       "      <td>351.94</td>\n",
       "      <td>358.13</td>\n",
       "      <td>365.84</td>\n",
       "      <td>371.62</td>\n",
       "    </tr>\n",
       "  </tbody>\n",
       "</table>\n",
       "</div>"
      ],
      "text/plain": [
       "       age_intervals  lon2013  lon2014  lon2015  lon2016  lon2017  lon2018  \\\n",
       "0        Alder i alt   309.21   312.75   315.84   318.39   324.98   334.30   \n",
       "1        Under 20 år   116.27   119.26   122.70   122.71   124.81   127.10   \n",
       "2           20-24 år   179.52   182.77   186.73   189.26   194.14   200.92   \n",
       "3           25-29 år   238.14   241.58   244.36   248.56   254.57   263.53   \n",
       "4           30-34 år   284.70   286.74   288.26   291.61   298.79   307.44   \n",
       "5           35-39 år   318.20   320.50   323.47   326.31   333.20   342.00   \n",
       "6           40-44 år   337.04   341.27   346.18   349.73   356.58   366.24   \n",
       "7           45-49 år   343.65   347.78   352.39   357.63   367.18   377.95   \n",
       "8           50-54 år   336.81   341.22   347.06   353.69   362.64   374.81   \n",
       "9           55-59 år   327.33   332.27   336.70   342.28   350.00   361.74   \n",
       "10  60 år og derover   332.62   335.00   336.20   336.75   342.87   351.94   \n",
       "\n",
       "    lon2019  lon2020  lon2021  \n",
       "0    340.88   346.28   352.15  \n",
       "1    128.59   131.26   139.71  \n",
       "2    202.93   205.53   209.94  \n",
       "3    269.17   273.53   279.24  \n",
       "4    314.42   320.42   327.12  \n",
       "5    347.92   352.83   358.49  \n",
       "6    372.72   377.34   383.26  \n",
       "7    386.38   392.18   398.22  \n",
       "8    385.04   390.88   398.58  \n",
       "9    371.40   379.90   388.47  \n",
       "10   358.13   365.84   371.62  "
      ]
     },
     "execution_count": 65,
     "metadata": {},
     "output_type": "execute_result"
    }
   ],
   "source": [
    "# Loading dataset and skipping the first row\n",
    "lonmen = pd.read_excel('lonmen.xlsx', skiprows=2)\n",
    "\n",
    "# Dropping 'Unnamed: 0' 'Unnamed: 1' 'Unnamed: 2' 'Unnamed: 3' 'Unnamed: 4'\n",
    "drop_these = ['Unnamed: ' + str(num) for num in range(5)] \n",
    "lonmen.drop(drop_these, axis=1, inplace=True)\n",
    "print(drop_these)\n",
    "\n",
    "# Renaming variables\n",
    "lonmen.rename(columns = {'Unnamed: 5':'age_intervals'}, inplace=True)\n",
    "\n",
    "# Renaming the columns\n",
    "col_dict = {}\n",
    "for i in range(2013, 2021+1): # range goes from 2008 to but not including 2018\n",
    "    col_dict[str(i)] = f'lon{i}' \n",
    "col_dict\n",
    "lonmen.rename(columns = col_dict, inplace=True)\n",
    "\n",
    "# Showing the cleaned dataset\n",
    "lonmen"
   ]
  },
  {
   "cell_type": "markdown",
   "metadata": {},
   "source": [
    "## Explore each data set"
   ]
  },
  {
   "cell_type": "markdown",
   "metadata": {},
   "source": [
    "In order to be able to **explore the raw data**, you may provide **static** and **interactive plots** to show important developments "
   ]
  },
  {
   "cell_type": "markdown",
   "metadata": {},
   "source": [
    "**Interactive plot** :"
   ]
  },
  {
   "cell_type": "code",
   "execution_count": null,
   "metadata": {},
   "outputs": [],
   "source": [
    "def plot_func():\n",
    "    # Function that operates on data set\n",
    "    pass\n",
    "\n",
    "widgets.interact(plot_func, \n",
    "    # Let the widget interact with data through plot_func()    \n",
    "); \n"
   ]
  },
  {
   "cell_type": "markdown",
   "metadata": {},
   "source": [
    "Explain what you see when moving elements of the interactive plot around. "
   ]
  },
  {
   "cell_type": "markdown",
   "metadata": {},
   "source": [
    "# Merge data sets"
   ]
  },
  {
   "cell_type": "markdown",
   "metadata": {},
   "source": [
    "Now you create combinations of your loaded data sets. Remember the illustration of a (inner) **merge**:"
   ]
  },
  {
   "cell_type": "code",
   "execution_count": null,
   "metadata": {},
   "outputs": [],
   "source": [
    "plt.figure(figsize=(15,7))\n",
    "v = venn2(subsets = (4, 4, 10), set_labels = ('Data X', 'Data Y'))\n",
    "v.get_label_by_id('100').set_text('dropped')\n",
    "v.get_label_by_id('010').set_text('dropped' )\n",
    "v.get_label_by_id('110').set_text('included')\n",
    "plt.show()"
   ]
  },
  {
   "cell_type": "markdown",
   "metadata": {},
   "source": [
    "Here we are dropping elements from both data set X and data set Y. A left join would keep all observations in data X intact and subset only from Y. \n",
    "\n",
    "Make sure that your resulting data sets have the correct number of rows and columns. That is, be clear about which observations are thrown away. \n",
    "\n",
    "**Note:** Don't make Venn diagrams in your own data project. It is just for exposition. "
   ]
  },
  {
   "cell_type": "markdown",
   "metadata": {},
   "source": [
    "# Analysis"
   ]
  },
  {
   "cell_type": "markdown",
   "metadata": {},
   "source": [
    "To get a quick overview of the data, we show some **summary statistics** on a meaningful aggregation. "
   ]
  },
  {
   "cell_type": "markdown",
   "metadata": {},
   "source": [
    "MAKE FURTHER ANALYSIS. EXPLAIN THE CODE BRIEFLY AND SUMMARIZE THE RESULTS."
   ]
  },
  {
   "cell_type": "markdown",
   "metadata": {},
   "source": [
    "# Conclusion"
   ]
  },
  {
   "cell_type": "markdown",
   "metadata": {},
   "source": [
    "ADD CONCISE CONLUSION."
   ]
  }
 ],
 "metadata": {
  "kernelspec": {
   "display_name": "base",
   "language": "python",
   "name": "python3"
  },
  "language_info": {
   "codemirror_mode": {
    "name": "ipython",
    "version": 3
   },
   "file_extension": ".py",
   "mimetype": "text/x-python",
   "name": "python",
   "nbconvert_exporter": "python",
   "pygments_lexer": "ipython3",
   "version": "3.9.13"
  },
  "toc-autonumbering": true,
  "vscode": {
   "interpreter": {
    "hash": "47ef90cdf3004d3f859f1fb202523c65c07ba7c22eefd261b181f4744e2d0403"
   }
  }
 },
 "nbformat": 4,
 "nbformat_minor": 4
}
