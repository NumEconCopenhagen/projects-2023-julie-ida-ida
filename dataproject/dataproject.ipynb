{
 "cells": [
  {
   "attachments": {},
   "cell_type": "markdown",
   "metadata": {},
   "source": [
    "# Inequality in wage between men and women"
   ]
  },
  {
   "attachments": {},
   "cell_type": "markdown",
   "metadata": {},
   "source": [
    "In this project we seek to analyze the wages for men and women and compare it to the danish GDP.\n",
    "\n",
    "We use data from Danmarks Statistikbank where we look at the wage for men and women in the years 2013 - 2021 and the GDP for the years 2010 - 2022.\n",
    "\n",
    "Dataset **wagemen.xlsx** shows the wages for men in different age groups. \n",
    "Dataset **wagewomen.xlsx** shows the wages for women in different age groups. \n",
    "Furthermore, we load and clean the dataset for GDP in Denmark for the period 2010-2022, so we are able to see if the development in women and men's wages is following the GDP trend. \n",
    "\n",
    "**The structure of this dataproject:**\n",
    "1. We import the three datasets from Excel sheets\n",
    "2. We clean the three datasets\n",
    "3. We explore the wage datasets using interactive figures\n",
    "4. We first merge the two wage datasets using left join method\n",
    "5. We merge the above dataset with the GDP dataset using left join method\n",
    "6. We create a summary statistics table for men and women's wages\n",
    "7. We create a figure of the wage for men and women and the GDP for the period 2013 - 2021\n"
   ]
  },
  {
   "cell_type": "markdown",
   "metadata": {},
   "source": [
    "Imports and set magics:"
   ]
  },
  {
   "cell_type": "code",
   "execution_count": null,
   "metadata": {},
   "outputs": [],
   "source": [
    "# Importing modules\n",
    "import pandas as pd\n",
    "import numpy as np\n",
    "\n",
    "import matplotlib.pyplot as plt\n",
    "plt.rcParams.update({\"axes.grid\":True,\"grid.color\":\"black\",\"grid.alpha\":\"0.25\",\"grid.linestyle\":\"--\"})\n",
    "plt.rcParams.update({'font.size': 14})\n",
    "plt.style.use('seaborn-whitegrid')\n",
    "\n",
    "import ipywidgets as widgets\n",
    "from matplotlib_venn import venn2\n",
    "\n",
    "import pydst\n",
    "dst = pydst.Dst(lang='en')  \n",
    "\n",
    "# autoreload modules when code is run\n",
    "%load_ext autoreload\n",
    "%autoreload 2\n",
    "\n",
    "# user written modules\n",
    "import dataproject\n"
   ]
  },
  {
   "attachments": {},
   "cell_type": "markdown",
   "metadata": {},
   "source": [
    "# Read and clean data"
   ]
  },
  {
   "attachments": {},
   "cell_type": "markdown",
   "metadata": {},
   "source": [
    "We will be importing the three datasets manually - wagemen, wagewomen and gdp.\n",
    "\n",
    "First we will import and clean the dataset for wages for men and afterwards clean the dataset for wages for women and the same for GDP. "
   ]
  },
  {
   "attachments": {},
   "cell_type": "markdown",
   "metadata": {},
   "source": [
    "**Dataset for men's wages:**"
   ]
  },
  {
   "cell_type": "code",
   "execution_count": null,
   "metadata": {},
   "outputs": [],
   "source": [
    "# Loading dataset for men's wages and skipping the first two rows\n",
    "wagemen = pd.read_excel('wagemen.xlsx', skiprows=2)\n",
    "\n",
    "# Dropping 'Unnamed: 0' 'Unnamed: 1' 'Unnamed: 2' 'Unnamed: 3' 'Unnamed: 4'\n",
    "drop_these = ['Unnamed: ' + str(num) for num in range(5)] \n",
    "wagemen.drop(drop_these, axis=1, inplace=True)\n",
    "print(drop_these)\n",
    "\n",
    "# Renaming variables\n",
    "wagemen.rename(columns = {'Unnamed: 5':'age_intervals'}, inplace=True)\n",
    "\n",
    "# Renaming the columns\n",
    "col_dict = {}\n",
    "for i in range(2013, 2021+1): \n",
    "    col_dict[str(i)] = f'wagemen{i}' \n",
    "col_dict\n",
    "wagemen.rename(columns = col_dict, inplace=True)\n",
    "\n",
    "# Showing the cleaned dataset\n",
    "wagemen"
   ]
  },
  {
   "cell_type": "code",
   "execution_count": null,
   "metadata": {},
   "outputs": [],
   "source": [
    "# We now change the dataset from a wide dataset to a long dataset to be able to merge the datasets later on\n",
    "wagemen_long = pd.wide_to_long(wagemen, stubnames='wagemen', i='age_intervals', j='year')\n",
    "wagemen_long.head(10)"
   ]
  },
  {
   "attachments": {},
   "cell_type": "markdown",
   "metadata": {},
   "source": [
    "**Dataset for women's wages:**"
   ]
  },
  {
   "cell_type": "code",
   "execution_count": null,
   "metadata": {},
   "outputs": [],
   "source": [
    "# Loading dataset for women's wages and skipping the first two rows\n",
    "wagewomen = pd.read_excel('wagewomen.xlsx', skiprows=2)\n",
    "\n",
    "# Dropping 'Unnamed: 0' 'Unnamed: 1' 'Unnamed: 2' 'Unnamed: 3' 'Unnamed: 4'\n",
    "drop_these = ['Unnamed: ' + str(num) for num in range(5)] \n",
    "wagewomen.drop(drop_these, axis=1, inplace=True)\n",
    "print(drop_these)\n",
    "\n",
    "# Renaming variables\n",
    "wagewomen.rename(columns = {'Unnamed: 5':'age_intervals'}, inplace=True)\n",
    "\n",
    "# Renaming the columns\n",
    "col_dict = {}\n",
    "for i in range(2013, 2021+1): \n",
    "    col_dict[str(i)] = f'wagewomen{i}' \n",
    "col_dict\n",
    "wagewomen.rename(columns = col_dict, inplace=True)\n",
    "\n",
    "# Showing the cleaned dataset\n",
    "wagewomen"
   ]
  },
  {
   "cell_type": "code",
   "execution_count": null,
   "metadata": {},
   "outputs": [],
   "source": [
    "# We now change the dataset from a wide dataset to a long dataset to be able to merge the datasets later on\n",
    "wagewomen_long = pd.wide_to_long(wagewomen, stubnames='wagewomen', i='age_intervals', j='year')\n",
    "wagewomen_long.head(10)"
   ]
  },
  {
   "attachments": {},
   "cell_type": "markdown",
   "metadata": {},
   "source": [
    "**Dataset for GDP:**"
   ]
  },
  {
   "cell_type": "code",
   "execution_count": null,
   "metadata": {},
   "outputs": [],
   "source": [
    "# Loading dataset for gsp and skipping the first two rows\n",
    "gdp = pd.read_excel('GDP.xlsx', skiprows=2)\n",
    "\n",
    "# Dropping 'Unnamed: 0' \n",
    "drop_these = ['Unnamed: ' + str(num) for num in range(1)] \n",
    "gdp.drop(drop_these, axis=1, inplace=True)\n",
    "print(drop_these)\n",
    "\n",
    "# Renaming the columns\n",
    "col_dict = {}\n",
    "for i in range(2010, 2022+1):\n",
    "    col_dict[str(i)] = f'gdp{i}' \n",
    "col_dict\n",
    "gdp.rename(columns = col_dict, inplace=True)\n",
    "\n",
    "# Renaming variable\n",
    "gdp.rename(columns = {'Unnamed: 1':'GDP'}, inplace=True)\n",
    "\n",
    "# Only showing the first coloumn\n",
    "gdp = gdp.iloc[[0]]\n",
    "\n",
    "# Showing the cleaned dataset\n",
    "gdp"
   ]
  },
  {
   "cell_type": "code",
   "execution_count": null,
   "metadata": {},
   "outputs": [],
   "source": [
    "# We now change the dataset from a wide dataset to a long dataset to be able to merge the datasets later on\n",
    "gdp_long = pd.wide_to_long(gdp, stubnames='gdp', i='GDP', j='year')\n",
    "gdp_long.head(10)"
   ]
  },
  {
   "attachments": {},
   "cell_type": "markdown",
   "metadata": {},
   "source": [
    "## Explorering each data set"
   ]
  },
  {
   "attachments": {},
   "cell_type": "markdown",
   "metadata": {},
   "source": [
    "To be able to make further analysis we start of by doing an interactive plot for men and women's wages for the years 2013 to 2021. We construct an interactive plot where it is possible to select different age intervals."
   ]
  },
  {
   "attachments": {},
   "cell_type": "markdown",
   "metadata": {},
   "source": [
    "**Interactive plot for men** :"
   ]
  },
  {
   "cell_type": "code",
   "execution_count": null,
   "metadata": {},
   "outputs": [],
   "source": [
    "# We start of by resetting the index\n",
    "wagemen_long = wagemen_long.reset_index()\n",
    "wagemen_long.loc[wagemen_long.age_intervals == 'Alder i alt', :]"
   ]
  },
  {
   "cell_type": "code",
   "execution_count": null,
   "metadata": {},
   "outputs": [],
   "source": [
    "# Defining our function to construct the interactive plot\n",
    "def plot_men(df, age_intervals): \n",
    "    I = df['age_intervals'] == age_intervals\n",
    "    ax=df.loc[I,:].plot(x='year', y='wagemen', style='-o', legend=False)\n",
    "    ax.xaxis.set_ticks(np.arange(2013, 2022, 1))\n",
    "    ax.set_ylabel('Wage in million DKK')\n",
    "    ax.set_title('Interactive plot for different age groups for men\\'s wage')"
   ]
  },
  {
   "cell_type": "code",
   "execution_count": null,
   "metadata": {},
   "outputs": [],
   "source": [
    "# Plotting men's wages\n",
    "widgets.interact(plot_men, \n",
    "    df = widgets.fixed(wagemen_long),\n",
    "    age_intervals = widgets.Dropdown(description='Age groups', \n",
    "                                    options=wagemen_long.age_intervals.unique(), \n",
    "                                    value='Alder i alt')\n",
    "); "
   ]
  },
  {
   "attachments": {},
   "cell_type": "markdown",
   "metadata": {},
   "source": [
    "From the interactive plot above we see that most age groups follow an almost linear trend which is increasing over the years. However, we notice that the age group \"under 20 years\" stagnate from 2015 to 2016. Furthermore, we see that the age group \"60 years and above\" are rather flat from 2013 to 2016, but afterwards increases dramatically until 2021."
   ]
  },
  {
   "attachments": {},
   "cell_type": "markdown",
   "metadata": {},
   "source": [
    "**Interactive plot for women** :"
   ]
  },
  {
   "cell_type": "code",
   "execution_count": null,
   "metadata": {},
   "outputs": [],
   "source": [
    "# We start of by resetting the index\n",
    "wagewomen_long = wagewomen_long.reset_index()\n",
    "wagewomen_long.loc[wagewomen_long.age_intervals == 'Alder i alt', :]"
   ]
  },
  {
   "cell_type": "code",
   "execution_count": null,
   "metadata": {},
   "outputs": [],
   "source": [
    "# Defining our function to construct the interactive plot\n",
    "def plot_women(df, age_intervals): \n",
    "    I = df['age_intervals'] == age_intervals\n",
    "    ax=df.loc[I,:].plot(x='year', y='wagewomen', style='-o', legend=False)\n",
    "    ax.xaxis.set_ticks(np.arange(2013, 2022, 1))\n",
    "    ax.set_ylabel('Wage in million DKK')\n",
    "    ax.set_title('Interactive plot for different age groups for women\\'s wage')"
   ]
  },
  {
   "cell_type": "code",
   "execution_count": null,
   "metadata": {},
   "outputs": [],
   "source": [
    "# Plotting women's wages\n",
    "widgets.interact(plot_women, \n",
    "    df = widgets.fixed(wagewomen_long),\n",
    "    age_intervals = widgets.Dropdown(description='Age groups', \n",
    "                                    options=wagewomen_long.age_intervals.unique(), \n",
    "                                    value='Alder i alt')\n",
    "); "
   ]
  },
  {
   "attachments": {},
   "cell_type": "markdown",
   "metadata": {},
   "source": [
    "From the figure above we see that the overall tendency is increasing for all age groups. For the age group \"under 20 years\" we see a considerable drop in the wages for women for the period 2015 to 2016."
   ]
  },
  {
   "cell_type": "markdown",
   "metadata": {},
   "source": [
    "# Merge data sets"
   ]
  },
  {
   "attachments": {},
   "cell_type": "markdown",
   "metadata": {},
   "source": [
    "We start off by merging the two wage datasets."
   ]
  },
  {
   "cell_type": "code",
   "execution_count": null,
   "metadata": {},
   "outputs": [],
   "source": [
    "# Merging the two wage datasets over year and age intervals\n",
    "mergedwage = pd.merge(wagewomen_long, wagemen_long, how='left', on=['year', 'age_intervals'])\n",
    "mergedwage.head(10)"
   ]
  },
  {
   "attachments": {},
   "cell_type": "markdown",
   "metadata": {},
   "source": [
    "We use left-join since we would like to include everything in the merged wage dataset, but we only want to include the years in the gdp dataset that are in both datasets (2013-2021)."
   ]
  },
  {
   "cell_type": "code",
   "execution_count": null,
   "metadata": {},
   "outputs": [],
   "source": [
    "# Merging the dataset above for men and women's wages and gdp\n",
    "mergedall = pd.merge(mergedwage, gdp_long, how='left', on=['year'])\n",
    "mergedall.head(10)"
   ]
  },
  {
   "attachments": {},
   "cell_type": "markdown",
   "metadata": {},
   "source": [
    "A left join will keep all observations in the merged wage dataset and subset only from gdp. "
   ]
  },
  {
   "cell_type": "markdown",
   "metadata": {},
   "source": [
    "# Analysis"
   ]
  },
  {
   "attachments": {},
   "cell_type": "markdown",
   "metadata": {},
   "source": [
    "We start off by creating a summary table for men and women's wage in the given age intervals, where we look at the mean, std, min, max and the three fractils (25%, 50% and 75%)."
   ]
  },
  {
   "cell_type": "code",
   "execution_count": null,
   "metadata": {},
   "outputs": [],
   "source": [
    "mergedall.groupby(['age_intervals'])['wagemen', 'wagewomen'].describe().head(11)"
   ]
  },
  {
   "attachments": {},
   "cell_type": "markdown",
   "metadata": {},
   "source": [
    "In the table above we see that the mean wage for men is lowest for the age group \"under 20 years\" and highest for the age group \"45-49 years\". However, the maximal value for men's wage is given in the age group \"50-54 years\".\n",
    "\n",
    "For women the highest and lowest mean is the same age groups, but the maximal value of wage for women is given in the age group \"45-49 years\".\n",
    "\n",
    "In general, the mean for men's wages are overall higher than women's wages in all age groups except the age group \"under 20 years\"."
   ]
  },
  {
   "cell_type": "code",
   "execution_count": null,
   "metadata": {},
   "outputs": [],
   "source": [
    "# We create a figure\n",
    "fig = plt.figure()\n",
    "ax = fig.add_subplot(1,1,1)\n",
    "\n",
    "# We group by years and choose only to look at the wages for men and women\n",
    "mergedall.groupby('year')['wagemen', 'wagewomen'].mean().plot(ax=ax,style='-o')\n",
    "\n",
    "# We set the labels and title\n",
    "ax.xaxis.set_ticks(np.arange(2013, 2022, 1))\n",
    "ax.set_ylabel('Wage in million DKK')\n",
    "ax.set_title('Wage development for men & women');\n",
    "\n",
    "# We dublicate the above figure to be able to make two y-axis\n",
    "ax2=ax.twinx()\n",
    "\n",
    "# Creating the plot\n",
    "ax2.plot(mergedall['year'], mergedall[\"gdp\"],color=\"maroon\",marker=\"o\",label='GDP')\n",
    "ax2.set_ylabel(\"GDP\")\n",
    "ax2.legend(loc='center left', bbox_to_anchor=(1.15, 0.63))\n",
    "ax.legend(loc='center left', bbox_to_anchor=(1.15, 0.75))\n"
   ]
  },
  {
   "attachments": {},
   "cell_type": "markdown",
   "metadata": {},
   "source": [
    "Overall for the figure above we see an increasing trend for all three variables. \n",
    "\n",
    "For the two wage variables we see that men's wages are higher than women's wage for the whole period, but that the gap is decreasing. \n",
    "\n",
    "GDP is decreasing from 2019 to 2020, but we see that this have no direct impact on the wages."
   ]
  },
  {
   "cell_type": "markdown",
   "metadata": {},
   "source": [
    "# Conclusion"
   ]
  },
  {
   "attachments": {},
   "cell_type": "markdown",
   "metadata": {},
   "source": [
    "Through this project we have shown that the average wage for men is higher than the average wage for women, and that the GDP does not have any direct impact on the wages in the period 2013 to 2021. "
   ]
  }
 ],
 "metadata": {
  "kernelspec": {
   "display_name": "base",
   "language": "python",
   "name": "python3"
  },
  "language_info": {
   "codemirror_mode": {
    "name": "ipython",
    "version": 3
   },
   "file_extension": ".py",
   "mimetype": "text/x-python",
   "name": "python",
   "nbconvert_exporter": "python",
   "pygments_lexer": "ipython3",
   "version": "3.9.13"
  },
  "toc-autonumbering": true,
  "vscode": {
   "interpreter": {
    "hash": "47ef90cdf3004d3f859f1fb202523c65c07ba7c22eefd261b181f4744e2d0403"
   }
  }
 },
 "nbformat": 4,
 "nbformat_minor": 4
}
